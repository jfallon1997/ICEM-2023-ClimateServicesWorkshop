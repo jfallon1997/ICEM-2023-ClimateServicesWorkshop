{
 "cells": [
  {
   "cell_type": "markdown",
   "metadata": {
    "slideshow": {
     "slide_type": "skip"
    }
   },
   "source": [
    "# Climate Services workshop\n",
    "\n",
    "This notebook and workshop was developed for the [ICEM 2023 conference](https://www.wemcouncil.org/wp/icem-2023-speakers-program), presented at the [Climate Services workshop](https://linktr.ee/ICEM23ClimateServices) using [`jupyter RISE`](https://rise.readthedocs.io/en/stable), and intended to work on https://mybinder.org.\n",
    "\n",
    "*Advanced `python` users: see the github repo README for more instructions with setup and installation if running on your own device*"
   ]
  },
  {
   "cell_type": "code",
   "metadata": {
    "slideshow": {
     "slide_type": "skip"
    }
   },
   "outputs": [],
   "source": [
    "%%capture\n",
    "# ensure that all package requirements are met\n",
    "!pip install pandas xarray rioxarray matplotlib rasterio"
   ]
  },
  {
   "cell_type": "code",
   "metadata": {
    "slideshow": {
     "slide_type": "skip"
    }
   },
   "outputs": [],
   "source": [
    "# import relevant libraries and functions not built-in to python\n",
    "\n",
    "# numpy is used for working with arrays, and has many other uses\n",
    "import numpy as np\n",
    "\n",
    "# pandas is a really nice tool for working with 2D arrays and reading CSV files\n",
    "import pandas as pd\n",
    "\n",
    "# xarray has more features than pandas, and can handle\n",
    "# more complex data structures and types (including netcdf)\n",
    "import xarray as xr\n",
    "import rioxarray as rx"
   ]
  },
  {
   "cell_type": "code",
   "metadata": {
    "slideshow": {
     "slide_type": "skip"
    }
   },
   "outputs": [],
   "source": [
    "# hide warnings\n",
    "import warnings\n",
    "warnings.filterwarnings('ignore')"
   ]
  },
  {
   "cell_type": "code",
   "metadata": {
    "slideshow": {
     "slide_type": "skip"
    }
   },
   "outputs": [],
   "source": [
    "# plotting and styling\n",
    "\n",
    "# matplotlib is a general purpose plotting backend\n",
    "import matplotlib.pyplot as plt\n",
    "\n",
    "# plotting large datasets\n",
    "import rasterio\n",
    "from rasterio.plot import show\n",
    "\n",
    "# [optional] use the mplcyberpunk theme, and pass if module not found\n",
    "try:\n",
    "    # theme can be installed with: pip install mplcyberpunk\n",
    "    import mplcyberpunk\n",
    "    plt.style.use(\"cyberpunk\")\n",
    "except:\n",
    "    pass\n",
    "\n",
    "# change default plot size\n",
    "plt.rcParams[\"figure.figsize\"] = (12, 3.8)"
   ]
  },
  {
   "cell_type": "markdown",
   "metadata": {
    "slideshow": {
     "slide_type": "slide"
    }
   },
   "source": [
    "<center><h1><a id=\"top\">Workshop on Weather and Climate Services</a></h1></center>\n",
    "\n",
    "<center>Using weather and climate data to support decision-making in the energy sector</center>\n",
    "\n",
    "<center>\n",
    "    <b>icem 2023</b> 7th International Conference Energy & Meteorology:\n",
    "    <br>\n",
    "    <i>Towards Climate-Resilient Energy Systems</i>\n",
    "</center>\n",
    "\n",
    "<br><br>\n",
    "<div style=\"width:14%;float: left\">\n",
    "<a href=\"https://linktr.ee/ICEM23ClimateServices\"><img src=\"github_qr.png\"></a>\n",
    "</div>\n",
    "<br><br>&nbsp;&nbsp;&nbsp;&nbsp;\n",
    "<a href=\"https://linktr.ee/ICEM23ClimateServices\">https://linktr.ee/ICEM23ClimateServices</a>\n"
   ]
  },
  {
   "cell_type": "markdown",
   "metadata": {
    "slideshow": {
     "slide_type": "slide"
    }
   },
   "source": [
    "## Programme\n",
    "\n",
    "*Tuesday 27th June 16:15-18:00 CEST*  \n",
    "**Convenors: James Fallon, Jake Badger and Justin Sharp (remote)**    \n",
    "**Panelists: Falguni Patadia, Frank Kaspar, Gabriel Perez**\n",
    "\n",
    "| Time | Activity | Speaker |\n",
    "| --- | --- | --- |\n",
    "| 16:15 | Introduction | Jake |\n",
    "| 16:20 | Overview of Live Climate Services | Jake |\n",
    "| 16:40 | Interactive Session: Climate Services Notebook | James |\n",
    "| 17:20 | Discussion: the \"Next Generation\" of Climate Services | Panellists |\n",
    "| 17:55 | Closing remarks | Jake & James |"
   ]
  },
  {
   "cell_type": "markdown",
   "metadata": {
    "slideshow": {
     "slide_type": "slide"
    }
   },
   "source": [
    "## About these slides\n",
    "\n",
    "View as `PDF` / `html` or run `ipynb` with instructions at:\n",
    "\n",
    "<table width=100% height=100% style=\"font-size: 38px\";><tr><td width=30%><a href=\"https://github.com/jfallon1997/ICEM-2023-ClimateServicesWorkshop\"><center><img src=\"github_qr.png\" width=\"60%\"></center></a></td><td width=70%><center><a href=\"https://linktr.ee/ICEM23ClimateServices\">https://linktr.ee/ICEM23ClimateServices</a><br><br><a href=\"https://github.com/jfallon1997/ICEM-2023-ClimateServicesWorkshop\">https://github.com/jfallon1997/<br>ICEM-2023-ClimateServicesWorkshop</a></center></td></tr></table>"
   ]
  },
  {
   "cell_type": "markdown",
   "metadata": {
    "slideshow": {
     "slide_type": "slide"
    }
   },
   "source": [
    "## Introduction\n",
    "\n"
   ]
  },
  {
   "cell_type": "markdown",
   "metadata": {
    "slideshow": {
     "slide_type": "subslide"
    }
   },
   "source": [
    "### \"what is a climate service\"\n",
    "\n",
    "*A decision aide derived from climate information*<sup>[1](https://public.wmo.int/en/bulletin/what-do-we-mean-climate-services)</sup>\n",
    "\n",
    "Example slides and schematics here: <https://www.wemcouncil.org/TALKS/EEA_Troccoli_Copenhagen_Sep2018.pdf>\n",
    "\n"
   ]
  },
  {
   "cell_type": "markdown",
   "metadata": {
    "slideshow": {
     "slide_type": "notes"
    }
   },
   "source": [
    "#### Definition of Climate Services adopted by the ScienceDirect Climate Services journal (open access)\n",
    "\n",
    "\"the transformation of climate-related data - together with other relevant information - into customized products such as projections, forecasts, information, trends, economic analysis, assessments (including technology assessment), counselling on best practices development and evaluation of solutions and any other services in relation to climate that may be use for the society at large.\"\n",
    "\n",
    "source: European Commission's Roadmap for Climate Services (2015)."
   ]
  },
  {
   "cell_type": "markdown",
   "metadata": {
    "slideshow": {
     "slide_type": "subslide"
    }
   },
   "source": [
    "### \"what is a climate service used for\"\n",
    "\n",
    "* see previously linked slides - take some examples\n",
    "* any examples from submitted abstracts?\n",
    "* other ideas?"
   ]
  },
  {
   "cell_type": "markdown",
   "metadata": {
    "slideshow": {
     "slide_type": "subslide"
    }
   },
   "source": [
    "### \"what we will cover today\"\n",
    "\n",
    "* how to **access and use** some climate services\n",
    "* exploring the **impact chain**: from weather data to energy variables\n",
    "* **common misconceptions** / things to be aware of!\n",
    "* hear from expert panellists\n",
    "* discussion on the next generation of weather & climate services"
   ]
  },
  {
   "cell_type": "markdown",
   "metadata": {
    "slideshow": {
     "slide_type": "slide"
    }
   },
   "source": [
    "## Overview of Live Climate Services\n",
    "\n",
    "**todo: insert panelists names & affiliations**"
   ]
  },
  {
   "cell_type": "markdown",
   "metadata": {
    "slideshow": {
     "slide_type": "subslide"
    }
   },
   "source": [
    "### eg. COPERNICUS API / ECEM / C4E\n",
    "\n",
    "<center><img src=\"screenshots/COPERNICUS_ECEM_demo_1.png\" width=\"60%\"></center>"
   ]
  },
  {
   "cell_type": "markdown",
   "metadata": {
    "slideshow": {
     "slide_type": "subslide"
    }
   },
   "source": [
    "### eg. NASA POWER\n",
    "\n",
    "<center><img src=\"screenshots/NASA_POWER_demo_1.png\" width=\"80%\"></center>"
   ]
  },
  {
   "cell_type": "markdown",
   "metadata": {
    "slideshow": {
     "slide_type": "slide"
    }
   },
   "source": [
    "## Interactive Session Part 1: Working with Meteorological Data"
   ]
  },
  {
   "cell_type": "markdown",
   "metadata": {
    "slideshow": {
     "slide_type": "notes"
    }
   },
   "source": [
    "We will show how to read in wind data - but a similar process can be considered for solar irradiance, temperature, and other energy-relevant variables"
   ]
  },
  {
   "cell_type": "markdown",
   "metadata": {
    "slideshow": {
     "slide_type": "subslide"
    }
   },
   "source": [
    "### Downloading data..."
   ]
  },
  {
   "cell_type": "markdown",
   "metadata": {
    "slideshow": {
     "slide_type": "fragment"
    }
   },
   "source": [
    "In this example, we use the **NASA POWER DAVe** tool to extract **1 month of hourly 50m wind speed data** from **Hudson Bay**\n",
    "\n",
    "*There are over 21 unique energy variables across categories of \"solar fluxes and related\", \"temperatures\", \"humidity/precipitation\", \"wind/pressure\" with additional customisation such as pressure correction and elevation changes available*"
   ]
  },
  {
   "cell_type": "markdown",
   "metadata": {
    "slideshow": {
     "slide_type": "subslide"
    }
   },
   "source": [
    "<center><img src=\"screenshots/NASA_POWER_demo_2.png\" width=\"80%\"></center>"
   ]
  },
  {
   "cell_type": "markdown",
   "metadata": {
    "slideshow": {
     "slide_type": "subslide"
    }
   },
   "source": [
    "### Read in a reanalysis dataset\n",
    "\n",
    "Now that we have downloaded our data, we use `xarray` to open the dataset"
   ]
  },
  {
   "cell_type": "code",
   "metadata": {
    "slideshow": {
     "slide_type": "fragment"
    }
   },
   "outputs": [],
   "source": [
    "# read in the dataset\n",
    "wind50m_reanalysis = xr.open_dataset(\"datasets/reanalysis/POWER_Point_Hourly_20220129_20230128_039d48N_073d59W_LST.nc\")[\"WS50M\"]"
   ]
  },
  {
   "cell_type": "code",
   "metadata": {
    "slideshow": {
     "slide_type": "fragment"
    }
   },
   "outputs": [],
   "source": [
    "# dataset overview\n",
    "wind50m_reanalysis"
   ]
  },
  {
   "cell_type": "markdown",
   "metadata": {
    "slideshow": {
     "slide_type": "subslide"
    }
   },
   "source": [
    "### Observations dataset\n",
    "\n",
    "We will use LiDAR measurements contrasted against the already plotted reanalysis matches to see how well reanalysis matches up with in-situ measurements..."
   ]
  },
  {
   "cell_type": "code",
   "metadata": {
    "slideshow": {
     "slide_type": "skip"
    }
   },
   "outputs": [],
   "source": [
    "def read_csv_lidar(fpath: str, field: str, na_value: float=9990.) -> pd.DataFrame:\n",
    "    \"\"\"Read CSV LiDAR data using pandas\"\"\"\n",
    "    # read in CSV data\n",
    "    df = pd.read_csv(fname, parse_dates=[\"timestamp\"], index_col=0, sep=r\",\\ \", usecols=[\"timestamp\", field], dtype=float)\n",
    "   \n",
    "    # handle nan values (can be 9998 or 9999 - remove anything 9990 or greater)\n",
    "    df[df[field] > na_value] = np.nan\n",
    "    \n",
    "    # return DataFrame\n",
    "    return df"
   ]
  },
  {
   "cell_type": "code",
   "metadata": {
    "slideshow": {
     "slide_type": "fragment"
    }
   },
   "outputs": [],
   "source": [
    "# read in a lidar dataset\n",
    "## New York Bight LiDAR Buoy data\n",
    "## https://oswbuoysny.resourcepanorama.dnv.com\n",
    "fname = \"datasets/NYSERDA Floating LiDAR Buoy Data/E05_Hudson_South_West_10_min_avg_20220129_20230128.csv\"\n",
    "wind58m_lidar = read_csv_lidar(fname, \"lidar_lidar58m_Z10_HorizWS\")"
   ]
  },
  {
   "cell_type": "markdown",
   "metadata": {
    "slideshow": {
     "slide_type": "subslide"
    }
   },
   "source": [
    "### Plot windspeeds"
   ]
  },
  {
   "cell_type": "code",
   "metadata": {
    "scrolled": true,
    "slideshow": {
     "slide_type": "fragment"
    }
   },
   "outputs": [],
   "source": [
    "# plot each timeseries\n",
    "fig, ax = plt.subplots()\n",
    "wind50m_reanalysis.plot(ax=ax)\n",
    "lines = wind58m_lidar.plot(ax=ax).lines\n",
    "\n",
    "# add x and y limit code here\n",
    "#plt.gca().set_xlim(\"2022-04-15\", \"2022-11-01\")\n",
    "\n",
    "plt.legend(lines, [\"MERRA2 50m Horiz-WS\", \"LiDAR 58m Horiz-WS\"]);"
   ]
  },
  {
   "cell_type": "markdown",
   "metadata": {
    "slideshow": {
     "slide_type": "slide"
    }
   },
   "source": [
    "## Interactive Session Part 2: Spatial Data\n",
    "\n",
    "APIs to access ready made geotiff files on DTU's Global Wind Atlas"
   ]
  },
  {
   "cell_type": "code",
   "metadata": {
    "slideshow": {
     "slide_type": "subslide"
    }
   },
   "outputs": [],
   "source": [
    "# JABA: examples of APIs to access ready made geotiff files on DTU's Global Wind Atlas\n",
    "#mmap_name = 'https://globalwindatlas.info/api/gis/country/DNK/wind-speed/100'\n",
    "#mmap_name = 'https://globalwindatlas.info/api/gis/country/DNK/elevation_w_bathymetry/'\n",
    "#mmap_name = 'https://globalwindatlas.info/api/gis/country/ITA/wind-speed/100'"
   ]
  },
  {
   "cell_type": "markdown",
   "metadata": {
    "slideshow": {
     "slide_type": "slide"
    }
   },
   "source": [
    "## Load datasets"
   ]
  },
  {
   "cell_type": "code",
   "metadata": {
    "slideshow": {
     "slide_type": "subslide"
    }
   },
   "outputs": [],
   "source": [
    "# JABA: example custom region of interest (\"area-1\") defined on GWA webpage,\n",
    "# JABA: and wind speed at different heights above surface made as geostiff data and downloaded\n",
    "mmap_name10 = \"datasets/GWA/area_1_wind-speed_10m.tif\"\n",
    "mmap_name50 = \"datasets/GWA/area_1_wind-speed_50m.tif\"\n",
    "mmap_name100 = \"datasets/GWA/area_1_wind-speed_100m.tif\"\n",
    "mmap_name150 = \"datasets/GWA/area_1_wind-speed_150m.tif\"\n",
    "mmap_name200 = \"datasets/GWA/area_1_wind-speed_200m.tif\""
   ]
  },
  {
   "cell_type": "markdown",
   "metadata": {
    "slideshow": {
     "slide_type": "slide"
    }
   },
   "source": [
    "## Visualise datasets"
   ]
  },
  {
   "cell_type": "code",
   "metadata": {
    "slideshow": {
     "slide_type": "subslide"
    }
   },
   "outputs": [],
   "source": [
    "# JABA: 10 m data\n",
    "fig, ax = plt.subplots()\n",
    "dataset10 = rasterio.open(mmap_name10)\n",
    "im = show((dataset10, 1), ax=ax, title='Wind speed at 10 m', vmin=2, vmax=10)\n",
    "fig.colorbar(im.get_images()[0], ax=ax);"
   ]
  },
  {
   "cell_type": "code",
   "metadata": {
    "slideshow": {
     "slide_type": "subslide"
    }
   },
   "outputs": [],
   "source": [
    "# JABA: 50 m data\n",
    "fig, ax = plt.subplots()\n",
    "dataset50 = rasterio.open(mmap_name50)\n",
    "im = show((dataset50,1), ax=ax, title='Wind speed at 50 m', vmin=2, vmax=10)\n",
    "fig.colorbar(im.get_images()[0], ax=ax);"
   ]
  },
  {
   "cell_type": "code",
   "metadata": {
    "slideshow": {
     "slide_type": "subslide"
    }
   },
   "outputs": [],
   "source": [
    "# JABA: 100 m data\n",
    "fig, ax = plt.subplots()\n",
    "dataset100 = rasterio.open(mmap_name100)\n",
    "im = show((dataset100,1), ax=ax, title='Wind speed at 100 m', vmin=2, vmax=10)\n",
    "fig.colorbar(im.get_images()[0], ax=ax);"
   ]
  },
  {
   "cell_type": "code",
   "metadata": {
    "slideshow": {
     "slide_type": "subslide"
    }
   },
   "outputs": [],
   "source": [
    "# JABA: 150 m data\n",
    "fig, ax = plt.subplots()\n",
    "dataset150 = rasterio.open(mmap_name150)\n",
    "im = show((dataset150,1), ax=ax, title='Wind speed at 150 m', vmin=2, vmax=10)\n",
    "fig.colorbar(im.get_images()[0], ax=ax);"
   ]
  },
  {
   "cell_type": "code",
   "metadata": {
    "slideshow": {
     "slide_type": "subslide"
    }
   },
   "outputs": [],
   "source": [
    "# JABA: 200 m data\n",
    "fig, ax = plt.subplots()\n",
    "dataset200 = rasterio.open(mmap_name200)\n",
    "im = show((dataset200, 1), ax=ax, title='Wind speed at 200 m', vmin=2, vmax=10)\n",
    "fig.colorbar(im.get_images()[0], ax=ax);"
   ]
  },
  {
   "cell_type": "markdown",
   "metadata": {
    "slideshow": {
     "slide_type": "slide"
    }
   },
   "source": [
    "## Make transect measurement"
   ]
  },
  {
   "cell_type": "code",
   "metadata": {
    "slideshow": {
     "slide_type": "subslide"
    }
   },
   "outputs": [],
   "source": [
    "# open datasets with xarray\n",
    "ds10 = xr.open_dataset(mmap_name10, engine='rasterio')\n",
    "ds50 = xr.open_dataset(mmap_name50, engine='rasterio')\n",
    "ds100 = xr.open_dataset(mmap_name100, engine='rasterio')\n",
    "ds150 = xr.open_dataset(mmap_name150, engine='rasterio')\n",
    "ds200 = xr.open_dataset(mmap_name200, engine='rasterio')"
   ]
  },
  {
   "cell_type": "code",
   "metadata": {
    "slideshow": {
     "slide_type": "skip"
    }
   },
   "outputs": [],
   "source": [
    "ds10"
   ]
  },
  {
   "cell_type": "code",
   "metadata": {
    "slideshow": {
     "slide_type": "skip"
    }
   },
   "outputs": [],
   "source": [
    "ds10.x.mean(), ds10.y.mean()"
   ]
  },
  {
   "cell_type": "code",
   "metadata": {
    "slideshow": {
     "slide_type": "subslide"
    }
   },
   "outputs": [],
   "source": [
    "# Make transect at measurement latitude.\n",
    "windspeed10 = ds10.band_data\n",
    "windspeed50 = ds50.band_data\n",
    "windspeed100 = ds100.band_data\n",
    "windspeed150 = ds150.band_data\n",
    "windspeed200 = ds200.band_data\n",
    " \n",
    "# JABA: create a transect at the measurement location (lon_meas, lat_meas)\n",
    "lon_meas = -74.0\n",
    "lat_meas = 40.0\n",
    "\n",
    "# JABA: put in the mean value here for the measured and reanalysis data\n",
    "data_meas = 6.0\n",
    "data_rean = 6.9\n",
    " \n",
    "lat_trans = lat_meas"
   ]
  },
  {
   "cell_type": "code",
   "metadata": {
    "slideshow": {
     "slide_type": "subslide"
    }
   },
   "outputs": [],
   "source": [
    "# plot 10m windspeed\n",
    "windspeed10_1d=windspeed10.sel(band=1, y=lat_trans, method='nearest')\n",
    "windspeed10_1d.plot();"
   ]
  },
  {
   "cell_type": "code",
   "metadata": {
    "slideshow": {
     "slide_type": "subslide"
    }
   },
   "outputs": [],
   "source": [
    "# add 50m windspeed\n",
    "windspeed50_1d=windspeed50.sel(band=1, y=lat_trans, method='nearest')\n",
    "\n",
    "windspeed10_1d.plot(label=\"10m\")\n",
    "windspeed50_1d.plot(label=\"50m\")\n",
    "\n",
    "plt.legend();"
   ]
  },
  {
   "cell_type": "code",
   "metadata": {
    "slideshow": {
     "slide_type": "subslide"
    }
   },
   "outputs": [],
   "source": [
    "# add 100m windspeed\n",
    "windspeed100_1d=windspeed100.sel(band=1, y=lat_trans, method='nearest')\n",
    "\n",
    "windspeed10_1d.plot(label=\"10m\")\n",
    "windspeed50_1d.plot(label=\"50m\")\n",
    "windspeed100_1d.plot(label=\"100m\")\n",
    "\n",
    "plt.legend();"
   ]
  },
  {
   "cell_type": "code",
   "metadata": {
    "slideshow": {
     "slide_type": "subslide"
    }
   },
   "outputs": [],
   "source": [
    "# add 150m windspeed\n",
    "windspeed150_1d=windspeed150.sel(band=1, y=lat_trans, method='nearest')\n",
    "\n",
    "windspeed10_1d.plot(label=\"10m\")\n",
    "windspeed50_1d.plot(label=\"50m\")\n",
    "windspeed100_1d.plot(label=\"100m\")\n",
    "windspeed150_1d.plot(label=\"150m\")\n",
    "\n",
    "plt.legend();"
   ]
  },
  {
   "cell_type": "code",
   "metadata": {
    "slideshow": {
     "slide_type": "subslide"
    }
   },
   "outputs": [],
   "source": [
    "# add 200m windspeed\n",
    "windspeed200_1d=windspeed200.sel(band=1, y=lat_trans, method='nearest')\n",
    "\n",
    "windspeed10_1d.plot(label=\"10m\")\n",
    "windspeed50_1d.plot(label=\"50m\")\n",
    "windspeed100_1d.plot(label=\"100m\")\n",
    "windspeed150_1d.plot(label=\"150m\")\n",
    "windspeed200_1d.plot(label=\"200m\")\n",
    "\n",
    "plt.legend();"
   ]
  },
  {
   "cell_type": "code",
   "metadata": {
    "slideshow": {
     "slide_type": "subslide"
    }
   },
   "outputs": [],
   "source": [
    "# add measurement data\n",
    "windspeed_meas_1d=xr.DataArray([data_meas,data_meas], name=\"band_data\",dims={\"x\"}, coords={\"x\":[lon_meas,(lon_meas+0.02)]})\n",
    "\n",
    "windspeed10_1d.plot(label=\"10m\")\n",
    "windspeed50_1d.plot(label=\"50m\")\n",
    "windspeed100_1d.plot(label=\"100m\")\n",
    "windspeed150_1d.plot(label=\"150m\")\n",
    "windspeed200_1d.plot(label=\"200m\")\n",
    "windspeed_meas_1d.plot(label=\"measurement\")\n",
    "\n",
    "plt.legend();"
   ]
  },
  {
   "cell_type": "code",
   "metadata": {
    "slideshow": {
     "slide_type": "subslide"
    }
   },
   "outputs": [],
   "source": [
    "# add reanalysis data\n",
    "windspeed_rean_1d=xr.DataArray([data_rean,data_rean], name=\"band_data\",dims={\"x\"}, coords={\"x\":[lon_meas,(lon_meas+0.02)]})\n",
    "\n",
    "windspeed10_1d.plot(label=\"10m\")\n",
    "windspeed50_1d.plot(label=\"50m\")\n",
    "windspeed100_1d.plot(label=\"100m\")\n",
    "windspeed150_1d.plot(label=\"150m\")\n",
    "windspeed200_1d.plot(label=\"200m\")\n",
    "windspeed_meas_1d.plot(label=\"measurement\")\n",
    "windspeed_rean_1d.plot(label=\"reanalysis\")\n",
    "\n",
    "plt.legend();"
   ]
  },
  {
   "cell_type": "markdown",
   "metadata": {
    "slideshow": {
     "slide_type": "slide"
    }
   },
   "source": [
    "## Learn to drive before taking off in a Ferrari!\n",
    "\n",
    "<center><img src=\"images/openclipart_Ferrari-f458-Spider.svg\" width=\"70%\"></center>"
   ]
  },
  {
   "cell_type": "markdown",
   "metadata": {
    "slideshow": {
     "slide_type": "subslide"
    }
   },
   "source": [
    "## Recap of potential pitfalls and misconceptions...\n",
    "\n",
    "Points here to recap some of the misconceptions / pitfalls we have highlighted, and other things\n",
    "* Original data might have isses<br>which get **worse** when propagated through an impact chain...\n",
    "* other points here\n",
    "* etc."
   ]
  },
  {
   "cell_type": "markdown",
   "metadata": {
    "slideshow": {
     "slide_type": "slide"
    }
   },
   "source": [
    "## Discussion: Next Generation Climate Services\n",
    "\n",
    "**todo: agree suggested topics, add to list**\n",
    "\n",
    "* Talking point 1\n",
    "* Talking point 2\n",
    "* Talking point 3\n",
    "* Talking point 4\n"
   ]
  },
  {
   "cell_type": "markdown",
   "metadata": {
    "slideshow": {
     "slide_type": "skip"
    }
   },
   "source": [
    "[*click here to jump back to the start*](#top)"
   ]
  }
 ],
 "metadata": {
  "celltoolbar": "Slideshow",
  "kernelspec": {
   "display_name": "Python 3 (ipykernel)",
   "language": "python",
   "name": "python3"
  },
  "language_info": {
   "codemirror_mode": {
    "name": "ipython",
    "version": 3
   },
   "file_extension": ".py",
   "mimetype": "text/x-python",
   "name": "python",
   "nbconvert_exporter": "python",
   "pygments_lexer": "ipython3",
   "version": "3.11.4"
  },
  "rise": {
   "autolaunch": true,
   "enable_chalkboard": true,
   "theme": "sky"
  }
 },
 "nbformat": 4,
 "nbformat_minor": 2
}